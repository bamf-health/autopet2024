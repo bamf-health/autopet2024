{
 "cells": [
  {
   "cell_type": "code",
   "execution_count": 4,
   "metadata": {},
   "outputs": [
    {
     "name": "stdout",
     "output_type": "stream",
     "text": [
      "- autopet2024/\n",
      "  - labelsTr/\n",
      "  - imagesTr/\n"
     ]
    }
   ],
   "source": [
    "import os\n",
    "from pathlib import Path\n",
    "\n",
    "\n",
    "def pprint_folders(directory, indent=0):\n",
    "    # Convert the directory to a Path object if it's not already\n",
    "    directory = Path(directory)\n",
    "\n",
    "    if not directory.is_dir():\n",
    "        print(\"The provided path is not a directory.\")\n",
    "        return\n",
    "\n",
    "    # Print the current directory name with indentation\n",
    "    print(\"  \" * indent + f\"- {directory.name}/\")\n",
    "\n",
    "    # Iterate over each item in the directory\n",
    "    for item in directory.iterdir():\n",
    "        if item.is_dir():\n",
    "            # Recursively print the structure of subdirectories\n",
    "            pprint_folders(item, indent + 1)\n",
    "\n",
    "\n",
    "# Example usage\n",
    "data_dir = Path(\"/mnt/nfs/open_datasets/autopet2024/\")\n",
    "pprint_folders(data_dir)"
   ]
  },
  {
   "cell_type": "code",
   "execution_count": 29,
   "metadata": {},
   "outputs": [
    {
     "name": "stdout",
     "output_type": "stream",
     "text": [
      "1014\n",
      "597\n",
      "Training Set: 1449\n",
      "\n",
      "Testing Set:162\n",
      "File already exists and will not be overwritten: data/train.csv\n",
      "File already exists and will not be overwritten: data/test.csv\n"
     ]
    }
   ],
   "source": [
    "import os\n",
    "import pandas as pd\n",
    "from pathlib import Path\n",
    "from sklearn.model_selection import train_test_split\n",
    "\n",
    "# Define the directory path\n",
    "data_dir = Path(\"/mnt/nfs/open_datasets/autopet2024/\")\n",
    "\n",
    "# List the contents of the directory\n",
    "subject_list = os.listdir(data_dir / \"labelsTr\")\n",
    "\n",
    "# Create a DataFrame with the contents and set the column name to \"Subjects\"\n",
    "imagesTr_df = pd.DataFrame(subject_list, columns=[\"Subjects\"])\n",
    "\n",
    "# Create two new columns \"FDG\" and \"PSMA\" based on the prefix of the \"Subjects\" column\n",
    "FDG = imagesTr_df[\"Subjects\"].apply(\n",
    "    lambda x: x.split(\".nii\")[0] if x.lower().startswith(\"fdg\") else None\n",
    ")\n",
    "PSMA = imagesTr_df[\"Subjects\"].apply(\n",
    "    lambda x: x.split(\".nii\")[0] if x.lower().startswith(\"psma\") else None\n",
    ")\n",
    "\n",
    "# Drop NaN values\n",
    "FDG = FDG.dropna()\n",
    "PSMA = PSMA.dropna()\n",
    "\n",
    "# Print lengths\n",
    "print(f\"FDG: {len(FDG)}\")\n",
    "print(f\"PSMA: {len(PSMA)}\")\n",
    "\n",
    "# Split FDG and PSMA into training and testing sets (90% train, 10% test)\n",
    "FDG_train, FDG_test = train_test_split(FDG, test_size=0.1, random_state=42)\n",
    "PSMA_train, PSMA_test = train_test_split(PSMA, test_size=0.1, random_state=42)\n",
    "\n",
    "# Combine train sets and test sets\n",
    "train_df = pd.DataFrame({\"Subjects\": pd.concat([FDG_train, PSMA_train])})\n",
    "test_df = pd.DataFrame({\"Subjects\": pd.concat([FDG_test, PSMA_test])})\n",
    "\n",
    "# Shuffle the rows\n",
    "train_df = train_df.sample(frac=1).reset_index(drop=True)\n",
    "test_df = test_df.sample(frac=1).reset_index(drop=True)\n",
    "\n",
    "# Display the resulting DataFrames\n",
    "print(f\"Training Set: {len(train_df)}\")\n",
    "# print(train_df.head())\n",
    "print(f\"\\nTesting Set:{len(test_df)}\")\n",
    "# print(test_df.head())\n",
    "\n",
    "\n",
    "# Function to save DataFrame to CSV without overwriting\n",
    "def save_csv(df, file_path):\n",
    "    if not file_path.exists():\n",
    "        df.to_csv(file_path, index=False)\n",
    "        print(f\"File saved: {file_path}\")\n",
    "    else:\n",
    "        print(f\"File already exists and will not be overwritten: {file_path}\")\n",
    "\n",
    "\n",
    "# Save DataFrames to CSV without overwriting\n",
    "save_csv(train_df, Path(\"data/train.csv\"))\n",
    "save_csv(test_df, Path(\"data/test.csv\"))\n",
    "\n",
    "#"
   ]
  },
  {
   "cell_type": "code",
   "execution_count": null,
   "metadata": {},
   "outputs": [],
   "source": []
  }
 ],
 "metadata": {
  "kernelspec": {
   "display_name": "aimiv2",
   "language": "python",
   "name": "python3"
  },
  "language_info": {
   "codemirror_mode": {
    "name": "ipython",
    "version": 3
   },
   "file_extension": ".py",
   "mimetype": "text/x-python",
   "name": "python",
   "nbconvert_exporter": "python",
   "pygments_lexer": "ipython3",
   "version": "3.10.12"
  }
 },
 "nbformat": 4,
 "nbformat_minor": 2
}
