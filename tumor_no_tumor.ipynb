{
 "cells": [
  {
   "cell_type": "code",
   "execution_count": 1,
   "metadata": {},
   "outputs": [
    {
     "data": {
      "application/vnd.jupyter.widget-view+json": {
       "model_id": "8f5e879fc9b545819a0d4ff00d5ad213",
       "version_major": 2,
       "version_minor": 0
      },
      "text/plain": [
       "0it [00:00, ?it/s]"
      ]
     },
     "metadata": {},
     "output_type": "display_data"
    },
    {
     "name": "stderr",
     "output_type": "stream",
     "text": [
      "GLCM is symmetrical, therefore Sum Average = 2 * Joint Average, only 1 needs to be calculated\n"
     ]
    },
    {
     "name": "stdout",
     "output_type": "stream",
     "text": [
      "129\n"
     ]
    },
    {
     "name": "stderr",
     "output_type": "stream",
     "text": [
      "GLCM is symmetrical, therefore Sum Average = 2 * Joint Average, only 1 needs to be calculated\n"
     ]
    },
    {
     "name": "stdout",
     "output_type": "stream",
     "text": [
      "129\n"
     ]
    },
    {
     "name": "stderr",
     "output_type": "stream",
     "text": [
      "GLCM is symmetrical, therefore Sum Average = 2 * Joint Average, only 1 needs to be calculated\n"
     ]
    },
    {
     "name": "stdout",
     "output_type": "stream",
     "text": [
      "129\n"
     ]
    },
    {
     "name": "stderr",
     "output_type": "stream",
     "text": [
      "GLCM is symmetrical, therefore Sum Average = 2 * Joint Average, only 1 needs to be calculated\n"
     ]
    },
    {
     "name": "stdout",
     "output_type": "stream",
     "text": [
      "129\n"
     ]
    },
    {
     "name": "stderr",
     "output_type": "stream",
     "text": [
      "GLCM is symmetrical, therefore Sum Average = 2 * Joint Average, only 1 needs to be calculated\n"
     ]
    },
    {
     "name": "stdout",
     "output_type": "stream",
     "text": [
      "129\n"
     ]
    },
    {
     "name": "stderr",
     "output_type": "stream",
     "text": [
      "GLCM is symmetrical, therefore Sum Average = 2 * Joint Average, only 1 needs to be calculated\n"
     ]
    },
    {
     "name": "stdout",
     "output_type": "stream",
     "text": [
      "129\n"
     ]
    },
    {
     "name": "stderr",
     "output_type": "stream",
     "text": [
      "GLCM is symmetrical, therefore Sum Average = 2 * Joint Average, only 1 needs to be calculated\n"
     ]
    },
    {
     "name": "stdout",
     "output_type": "stream",
     "text": [
      "129\n"
     ]
    },
    {
     "name": "stderr",
     "output_type": "stream",
     "text": [
      "GLCM is symmetrical, therefore Sum Average = 2 * Joint Average, only 1 needs to be calculated\n"
     ]
    },
    {
     "name": "stdout",
     "output_type": "stream",
     "text": [
      "129\n"
     ]
    },
    {
     "name": "stderr",
     "output_type": "stream",
     "text": [
      "GLCM is symmetrical, therefore Sum Average = 2 * Joint Average, only 1 needs to be calculated\n"
     ]
    },
    {
     "name": "stdout",
     "output_type": "stream",
     "text": [
      "129\n"
     ]
    },
    {
     "name": "stderr",
     "output_type": "stream",
     "text": [
      "GLCM is symmetrical, therefore Sum Average = 2 * Joint Average, only 1 needs to be calculated\n"
     ]
    },
    {
     "name": "stdout",
     "output_type": "stream",
     "text": [
      "129\n"
     ]
    },
    {
     "name": "stderr",
     "output_type": "stream",
     "text": [
      "GLCM is symmetrical, therefore Sum Average = 2 * Joint Average, only 1 needs to be calculated\n"
     ]
    },
    {
     "name": "stdout",
     "output_type": "stream",
     "text": [
      "129\n"
     ]
    },
    {
     "name": "stderr",
     "output_type": "stream",
     "text": [
      "GLCM is symmetrical, therefore Sum Average = 2 * Joint Average, only 1 needs to be calculated\n"
     ]
    },
    {
     "name": "stdout",
     "output_type": "stream",
     "text": [
      "129\n"
     ]
    }
   ],
   "source": [
    "import numpy as np\n",
    "from scipy.ndimage import label, find_objects\n",
    "import matplotlib.pyplot as plt\n",
    "from pathlib import Path\n",
    "from tqdm.auto import tqdm\n",
    "import SimpleITK as sitk\n",
    "import pandas as pd\n",
    "import radiomics\n",
    "from radiomics import featureextractor\n",
    "import os\n",
    "\n",
    "def count_blob_pixels(array):\n",
    "    # Label the blobs in the array\n",
    "    labeled_array, num_features = label(array)\n",
    "\n",
    "    # Calculate the number of pixels in each blob\n",
    "    blob_sizes = [(labeled_array == i).sum() for i in range(1, num_features + 1)]\n",
    "\n",
    "    return blob_sizes\n",
    "\n",
    "\n",
    "def remove_small_blobs(array, min_size=100):\n",
    "    # Label the blobs in the array\n",
    "    labeled_array, num_features = label(array)\n",
    "\n",
    "    # Find the sizes of each blob\n",
    "    blob_sizes = [(labeled_array == i + 1).sum() for i in range(num_features)]\n",
    "\n",
    "    # Create a mask to keep blobs that meet the size requirement or if it's the only blob\n",
    "    if num_features == 1:\n",
    "        mask = labeled_array != 0  # Keep the single blob regardless of size\n",
    "    else:\n",
    "        mask = np.isin(\n",
    "            labeled_array,\n",
    "            [i + 1 for i, size in enumerate(blob_sizes) if size >= min_size],\n",
    "        )\n",
    "\n",
    "    # Apply the mask to the original array\n",
    "    filtered_array = array * mask\n",
    "\n",
    "    return filtered_array\n",
    "\n",
    "\n",
    "def extract_radiomics_features(pet_img, mask_array, output_dir, sub_name, label_type):\n",
    "    if not os.path.exists(output_dir):\n",
    "        os.makedirs(output_dir)\n",
    "    mask_array = remove_small_blobs(mask_array)\n",
    "    # Label the blobs in the array\n",
    "    labeled_array, num_features = label(mask_array)\n",
    "\n",
    "    # Initialize the PyRadiomics feature extractor\n",
    "    extractor = featureextractor.RadiomicsFeatureExtractor()\n",
    "\n",
    "    for i in range(1, num_features + 1):\n",
    "        # Create the filename\n",
    "\n",
    "        filename = f\"{sub_name}_blob_{i}_label_{label_type}.csv\"\n",
    "\n",
    "        if Path(os.path.join(output_dir, filename)).exists():\n",
    "            continue\n",
    "        blob_mask = (labeled_array == i).astype(np.uint8)\n",
    "        if blob_mask.sum()<=50:\n",
    "            continue\n",
    "        # Ensure the blob mask has the same shape as the original array\n",
    "        assert blob_mask.shape == mask_array.shape\n",
    "        mask_img = sitk.GetImageFromArray(blob_mask)\n",
    "        mask_img.CopyInformation(pet_img)\n",
    "        # Extract features\n",
    "        feature_vector = extractor.execute(pet_img, mask_img)\n",
    "        print(len(feature_vector))\n",
    "        # Convert the feature vector to a pandas DataFrame\n",
    "        feature_df = pd.DataFrame([feature_vector])\n",
    "\n",
    "        # Remove non-numeric columns\n",
    "        feature_df = feature_df.select_dtypes(include=[np.number])\n",
    "\n",
    "        # Save the DataFrame as a CSV file\n",
    "        feature_df.to_csv(os.path.join(output_dir, filename), index=False)\n",
    "\n",
    "\n",
    "def calculate_tp_fp_fn(gt, pred):\n",
    "    # Label the blobs\n",
    "    gt_labels, num_gt = label(gt)\n",
    "    pred_labels, num_pred = label(pred)\n",
    "\n",
    "    # Find bounding boxes of blobs\n",
    "    gt_slices = find_objects(gt_labels)\n",
    "    pred_slices = find_objects(pred_labels)\n",
    "\n",
    "    # Create empty masks for TP, FP, FN\n",
    "    tp_mask = np.zeros_like(gt)\n",
    "    fp_mask = np.zeros_like(gt)\n",
    "    fn_mask = np.zeros_like(gt)\n",
    "\n",
    "    # Calculate TP, FP, FN\n",
    "    tp, fp, fn = 0, 0, 0\n",
    "\n",
    "    # Helper function to determine if two blobs overlap\n",
    "    def overlap(slice1, slice2):\n",
    "        return not (\n",
    "            slice1[0].stop < slice2[0].start\n",
    "            or slice1[0].start > slice2[0].stop\n",
    "            or slice1[1].stop < slice2[1].start\n",
    "            or slice1[1].start > slice2[1].stop\n",
    "            or slice1[2].stop < slice2[2].start\n",
    "            or slice1[2].start > slice2[2].stop\n",
    "        )\n",
    "\n",
    "    matched_gt = set()\n",
    "    matched_pred = set()\n",
    "\n",
    "    for i, gt_slice in enumerate(gt_slices):\n",
    "        gt_blob = gt_labels == (i + 1)\n",
    "        match_found = False\n",
    "        for j, pred_slice in enumerate(pred_slices):\n",
    "            if overlap(gt_slice, pred_slice):\n",
    "                pred_blob = pred_labels == (j + 1)\n",
    "                tp_mask[gt_blob & pred_blob] = 1  # True positive overlap region\n",
    "                tp += 1\n",
    "                matched_gt.add(i)\n",
    "                matched_pred.add(j)\n",
    "                match_found = True\n",
    "                break\n",
    "        if not match_found:\n",
    "            fn_mask[gt_blob] = 1\n",
    "\n",
    "    for j, pred_slice in enumerate(pred_slices):\n",
    "        if j not in matched_pred:\n",
    "            pred_blob = pred_labels == (j + 1)\n",
    "            fp_mask[pred_blob] = 1\n",
    "\n",
    "    fn = num_gt - tp\n",
    "    fp = num_pred - tp\n",
    "\n",
    "    return tp_mask, fp_mask, fn_mask, tp, fp, fn\n",
    "\n",
    "\n",
    "src_dir = Path(\"/mnt/nfs/slow_ai_team/organ_segmentation/nnunet_liverv0.0/nnUNet_raw_database/nnUNet_raw/nnUNet_raw_data/Dataset019_AutoPET2024/\")\n",
    "pred_dir = \"imagesTr_pred_res\"\n",
    "gt_dir = \"imagesTr\"\n",
    "metrics=[]\n",
    "for pred in tqdm((src_dir/pred_dir).glob(\"*.nii.gz\")):\n",
    "    fname = (pred.name).split(\".nii\")[0]\n",
    "    gt = str(pred).replace(\"imagesTr_pred_res\", \"labelsTr\")\n",
    "    pred_array = sitk.GetArrayFromImage(sitk.ReadImage(pred))\n",
    "    pet_img = (sitk.ReadImage(\n",
    "        src_dir / \"imagesTr\" / str(fname + \"_0000.nii.gz\")\n",
    "    ))\n",
    "    gt_array = sitk.GetArrayFromImage(sitk.ReadImage(gt))\n",
    "    gt_array = gt_array==20\n",
    "    pred_array = pred_array==20\n",
    "    tp_mask, fp_mask, fn_mask, tp, fp, fn = calculate_tp_fp_fn(gt_array, pred_array)\n",
    "    fp_voxels = count_blob_pixels(fp_mask)\n",
    "    fn_voxels = count_blob_pixels(fn_mask)\n",
    "    tp_voxels = count_blob_pixels(tp_mask)\n",
    "    radiomics_path = \"tp_fp_fn_radiomics_ct\"\n",
    "    extract_radiomics_features(pet_img, fp_mask, radiomics_path, fname, \"fp\")\n",
    "    extract_radiomics_features(pet_img, tp_mask, radiomics_path, fname, \"tp\")\n",
    "    extract_radiomics_features(pet_img, fn_mask, radiomics_path, fname, \"fn\")\n",
    "    metrics.append({\"Subject\": pred.name, \"TP\":tp, \"FP\": fp, \"FN\": fn, \"TP_voxels\": tp_voxels, \"FP_voxels\": fp_voxels, \"FN_voxels\": fn_voxels})\n",
    "df = pd.DataFrame(metrics)\n",
    "df.head()\n",
    "df.to_csv(\"TP_FP_FN_res_model.csv\")"
   ]
  },
  {
   "cell_type": "code",
   "execution_count": 2,
   "metadata": {},
   "outputs": [
    {
     "name": "stdout",
     "output_type": "stream",
     "text": [
      "   diagnostics_Image-original_Mean  diagnostics_Image-original_Minimum  \\\n",
      "0                      -908.964342                        -1368.807739   \n",
      "1                      -912.161126                        -1457.807739   \n",
      "2                      -881.026459                        -1598.900391   \n",
      "3                      -957.705830                        -1313.069824   \n",
      "4                      -919.534544                        -1437.792358   \n",
      "\n",
      "   diagnostics_Image-original_Maximum  diagnostics_Mask-original_VoxelNum  \\\n",
      "0                         3265.816895                                 138   \n",
      "1                         3243.423096                                 570   \n",
      "2                         3737.096680                                 724   \n",
      "3                         3330.528320                                 189   \n",
      "4                         3217.746582                                 115   \n",
      "\n",
      "   diagnostics_Mask-original_VolumeNum  original_shape_Elongation  \\\n",
      "0                                    1                   0.912729   \n",
      "1                                    1                   0.411556   \n",
      "2                                    1                   0.800805   \n",
      "3                                    1                   0.793835   \n",
      "4                                    1                   0.800569   \n",
      "\n",
      "   original_shape_Flatness  original_shape_LeastAxisLength  \\\n",
      "0                 0.773735                       11.569314   \n",
      "1                 0.277550                       13.021757   \n",
      "2                 0.543631                       45.277825   \n",
      "3                 0.721216                       12.832862   \n",
      "4                 0.684007                       10.490139   \n",
      "\n",
      "   original_shape_MajorAxisLength  original_shape_MinorAxisLength  \\\n",
      "0                       14.952549                       13.647625   \n",
      "1                       46.916834                       19.308902   \n",
      "2                       83.287803                       66.697295   \n",
      "3                       17.793379                       14.125013   \n",
      "4                       15.336298                       12.277758   \n",
      "\n",
      "   original_shape_VoxelVolume  label  \n",
      "0                 1716.860837      1  \n",
      "1                 7091.381716      1  \n",
      "2                60048.363939      1  \n",
      "3                 2351.352885      1  \n",
      "4                 1430.717364      1  \n",
      "2000\n"
     ]
    }
   ],
   "source": [
    "import glob\n",
    "def load_and_label_radiomics_data(folder_path, num_files=1000):\n",
    "    # Get the list of tp and fp files\n",
    "    tp_files = glob.glob(os.path.join(folder_path, \"*_tp.csv\"))[:num_files]\n",
    "    fp_files = glob.glob(os.path.join(folder_path, \"*_fp.csv\"))[:num_files]\n",
    "\n",
    "    # Load tp files into a DataFrame and add the label column\n",
    "    tp_dataframes = []\n",
    "    for file in tp_files:\n",
    "        df = pd.read_csv(file)\n",
    "        df[\"label\"] = 1\n",
    "        tp_dataframes.append(df)\n",
    "\n",
    "    # Load fp files into a DataFrame and add the label column\n",
    "    fp_dataframes = []\n",
    "    for file in fp_files:\n",
    "        df = pd.read_csv(file)\n",
    "        df[\"label\"] = 0\n",
    "        fp_dataframes.append(df)\n",
    "\n",
    "    # Concatenate all DataFrames\n",
    "    all_data = pd.concat(tp_dataframes + fp_dataframes, ignore_index=True)\n",
    "\n",
    "    return all_data\n",
    "\n",
    "\n",
    "# Example usage\n",
    "# folder_path = \"tp_fp_fn_radiomics\"\n",
    "combined_data = load_and_label_radiomics_data(radiomics_path, num_files=1000)\n",
    "print(combined_data.head())\n",
    "print(len(combined_data))"
   ]
  },
  {
   "cell_type": "code",
   "execution_count": 6,
   "metadata": {},
   "outputs": [
    {
     "name": "stdout",
     "output_type": "stream",
     "text": [
      "Classification Report:\n",
      "              precision    recall  f1-score   support\n",
      "\n",
      "           0       0.71      0.05      0.09       201\n",
      "           1       0.51      0.98      0.67       199\n",
      "\n",
      "    accuracy                           0.51       400\n",
      "   macro avg       0.61      0.51      0.38       400\n",
      "weighted avg       0.61      0.51      0.38       400\n",
      "\n",
      "Accuracy: 0.51\n",
      "Confusion Matrix:\n",
      "[[ 10 191]\n",
      " [  4 195]]\n",
      "[0.10261634 0.09822058 0.1035442  0.12292938 0.12439349 0.12003546\n",
      " 0.11487313 0.10595383 0.10743359]\n"
     ]
    }
   ],
   "source": [
    "from sklearn.ensemble import ExtraTreesClassifier, RandomForestClassifier\n",
    "from sklearn.model_selection import train_test_split\n",
    "from sklearn.metrics import classification_report, accuracy_score, confusion_matrix\n",
    "from sklearn.feature_selection import VarianceThreshold\n",
    "from sklearn.preprocessing import StandardScaler\n",
    "\n",
    "def classify(cdf):\n",
    "    y = cdf[\"label\"]\n",
    "    X = cdf.drop(columns=[\"label\"])\n",
    "\n",
    "    # Replace NaN values with the median of each column\n",
    "    X = X.fillna(X.median())\n",
    "\n",
    "    # Normalize the features\n",
    "    scaler = StandardScaler()\n",
    "    X = scaler.fit_transform(X)\n",
    "\n",
    "    # Step 2: Feature selection\n",
    "\n",
    "    # Remove features with low variance\n",
    "    selector = VarianceThreshold(threshold=0.01)\n",
    "    X = selector.fit_transform(X)\n",
    "\n",
    "    # Remove correlated features\n",
    "    def remove_correlated_features(data, threshold=0.9):\n",
    "        corr_matrix = pd.DataFrame(data).corr().abs()\n",
    "        upper = corr_matrix.where(\n",
    "            np.triu(np.ones(corr_matrix.shape), k=1).astype(np.bool_)\n",
    "        )\n",
    "        to_drop = [column for column in upper.columns if any(upper[column] > threshold)]\n",
    "        return pd.DataFrame(data).drop(columns=to_drop, axis=1).values\n",
    "\n",
    "    X = remove_correlated_features(X)\n",
    "\n",
    "    # Step 3: Run Extremely Randomized Trees (ExtraTreesClassifier)\n",
    "    X_train, X_test, y_train, y_test = train_test_split(\n",
    "        X, y, test_size=0.2, random_state=42\n",
    "    )\n",
    "\n",
    "    clf = RandomForestClassifier(random_state=42)\n",
    "    clf.fit(X_train, y_train)\n",
    "    # Step 4: Predict probabilities and adjust threshold\n",
    "    y_pred_proba = clf.predict_proba(X_test)[:, 1]  # Probability of positive class\n",
    "\n",
    "    # Define a custom threshold to maximize accuracy for negatives\n",
    "    custom_threshold = 0.1  # Adjust this threshold as needed\n",
    "\n",
    "    y_pred = (y_pred_proba >= custom_threshold).astype(int)\n",
    "\n",
    "    # Step 5: Evaluate the model\n",
    "    report = classification_report(y_test, y_pred)\n",
    "    print(\"Classification Report:\")\n",
    "    print(report)\n",
    "\n",
    "    accuracy = accuracy_score(y_test, y_pred)\n",
    "    print(f\"Accuracy: {accuracy:.2f}\")\n",
    "\n",
    "    conf_matrix = confusion_matrix(y_test, y_pred)\n",
    "    print(\"Confusion Matrix:\")\n",
    "    print(conf_matrix)\n",
    "    # Get feature importances and indices of top features\n",
    "    importances = clf.feature_importances_\n",
    "    print(importances)\n",
    "classify(combined_data)"
   ]
  },
  {
   "cell_type": "code",
   "execution_count": 4,
   "metadata": {},
   "outputs": [
    {
     "name": "stdout",
     "output_type": "stream",
     "text": [
      "True Positives (TP): 1\n",
      "False Positives (FP): 0\n",
      "False Negatives (FN): 2\n"
     ]
    },
    {
     "data": {
      "image/png": "[encoded data removed]",
      "text/plain": [
       "<Figure size 2000x500 with 5 Axes>"
      ]
     },
     "metadata": {},
     "output_type": "display_data"
    }
   ],
   "source": [
    "import cv2\n",
    "import numpy as np\n",
    "from scipy.ndimage import label, find_objects\n",
    "import matplotlib.pyplot as plt\n",
    "\n",
    "# Example ground truth and prediction arrays\n",
    "gt = np.zeros((100, 100), dtype=np.uint8)\n",
    "pred = np.zeros((100, 100), dtype=np.uint8)\n",
    "\n",
    "# Create three blobs in the ground truth\n",
    "cv2.circle(gt, (30, 30), 10, 255, -1)\n",
    "cv2.circle(gt, (70, 30), 10, 255, -1)\n",
    "cv2.circle(gt, (50, 70), 10, 255, -1)\n",
    "\n",
    "# Create one blob in the prediction\n",
    "cv2.circle(pred, (30, 30), 12, 255, -1)  # Slightly larger or smaller than GT\n",
    "\n",
    "# Label the blobs\n",
    "gt_labels, num_gt = label(gt)\n",
    "pred_labels, num_pred = label(pred)\n",
    "\n",
    "# Find bounding boxes of blobs\n",
    "gt_slices = find_objects(gt_labels)\n",
    "pred_slices = find_objects(pred_labels)\n",
    "\n",
    "# Create empty masks for TP, FP, FN\n",
    "tp_mask = np.zeros_like(gt)\n",
    "fp_mask = np.zeros_like(gt)\n",
    "fn_mask = np.zeros_like(gt)\n",
    "\n",
    "# Calculate TP, FP, FN\n",
    "tp, fp, fn = 0, 0, 0\n",
    "\n",
    "\n",
    "# Helper function to determine if two blobs overlap\n",
    "def overlap(slice1, slice2):\n",
    "    return not (\n",
    "        slice1[0].stop < slice2[0].start\n",
    "        or slice1[0].start > slice2[0].stop\n",
    "        or slice1[1].stop < slice2[1].start\n",
    "        or slice1[1].start > slice2[1].stop\n",
    "    )\n",
    "\n",
    "\n",
    "matched_gt = set()\n",
    "matched_pred = set()\n",
    "\n",
    "for i, gt_slice in enumerate(gt_slices):\n",
    "    gt_blob = gt_labels == (i + 1)\n",
    "    match_found = False\n",
    "    for j, pred_slice in enumerate(pred_slices):\n",
    "        if overlap(gt_slice, pred_slice):\n",
    "            pred_blob = pred_labels == (j + 1)\n",
    "            tp_mask[gt_blob & pred_blob] = 255  # True positive overlap region\n",
    "            tp += 1\n",
    "            matched_gt.add(i)\n",
    "            matched_pred.add(j)\n",
    "            match_found = True\n",
    "            break\n",
    "    if not match_found:\n",
    "        fn_mask[gt_blob] = 255\n",
    "\n",
    "for j, pred_slice in enumerate(pred_slices):\n",
    "    if j not in matched_pred:\n",
    "        pred_blob = pred_labels == (j + 1)\n",
    "        fp_mask[pred_blob] = 255\n",
    "\n",
    "fn = num_gt - tp\n",
    "fp = num_pred - tp\n",
    "\n",
    "print(f\"True Positives (TP): {tp}\")\n",
    "print(f\"False Positives (FP): {fp}\")\n",
    "print(f\"False Negatives (FN): {fn}\")\n",
    "\n",
    "# Plot the images\n",
    "fig, axes = plt.subplots(1, 5, figsize=(20, 5))\n",
    "\n",
    "axes[0].imshow(gt, cmap=\"gray\")\n",
    "axes[0].set_title(\"Ground Truth\")\n",
    "\n",
    "axes[1].imshow(pred, cmap=\"gray\")\n",
    "axes[1].set_title(\"Prediction\")\n",
    "\n",
    "axes[2].imshow(tp_mask, cmap=\"gray\")\n",
    "axes[2].set_title(\"True Positives (TP)\")\n",
    "\n",
    "axes[3].imshow(fp_mask, cmap=\"gray\")\n",
    "axes[3].set_title(\"False Positives (FP)\")\n",
    "\n",
    "axes[4].imshow(fn_mask, cmap=\"gray\")\n",
    "axes[4].set_title(\"False Negatives (FN)\")\n",
    "\n",
    "for ax in axes:\n",
    "    ax.axis(\"off\")\n",
    "\n",
    "plt.tight_layout()\n",
    "plt.show()"
   ]
  },
  {
   "cell_type": "code",
   "execution_count": null,
   "metadata": {},
   "outputs": [],
   "source": []
  }
 ],
 "metadata": {
  "kernelspec": {
   "display_name": "aimiv2",
   "language": "python",
   "name": "python3"
  },
  "language_info": {
   "codemirror_mode": {
    "name": "ipython",
    "version": 3
   },
   "file_extension": ".py",
   "mimetype": "text/x-python",
   "name": "python",
   "nbconvert_exporter": "python",
   "pygments_lexer": "ipython3",
   "version": "3.10.12"
  }
 },
 "nbformat": 4,
 "nbformat_minor": 2
}
